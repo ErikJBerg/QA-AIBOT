{
 "cells": [
  {
   "cell_type": "code",
   "execution_count": 1,
   "id": "ae155183-5621-423d-b7ad-e221c54a184d",
   "metadata": {},
   "outputs": [],
   "source": [
    "with open('qa.source.txt', 'r') as questions:\n",
    "    for index, qa in enumerate(questions.read().split('\\n\\n')):\n",
    "        with open(f'qa_docs/qa.{index}.txt', 'w') as question_answer:\n",
    "            question_answer.write(qa)"
   ]
  },
  {
   "cell_type": "code",
   "execution_count": 2,
   "id": "020d1f03-aa08-43b2-b8ca-762c7e7eb76c",
   "metadata": {},
   "outputs": [],
   "source": [
    "# Import necessary packages\n",
    "import os\n",
    "import openai\n",
    "\n",
    "from llama_index import VectorStoreIndex, SimpleDirectoryReader\n",
    "\n",
    "os.environ['OPENAI_API_KEY'] = 'sk-XXXX'\n",
    "\n",
    "openai.api_key = 'sk-XXXX'"
   ]
  },
  {
   "cell_type": "code",
   "execution_count": 5,
   "id": "e6293d4d-b6a9-4afb-bb83-37676a1f6237",
   "metadata": {},
   "outputs": [],
   "source": [
    "# Loading from a directory\n",
    "documents = SimpleDirectoryReader('./qa_docs/').load_data()"
   ]
  },
  {
   "cell_type": "code",
   "execution_count": 9,
   "id": "3c086547-99bb-40b5-ba70-e40641adb7bf",
   "metadata": {},
   "outputs": [],
   "source": [
    "# UPDATE: Since llma_index changed their library, the following code should replace the code above\n",
    "index = VectorStoreIndex.from_documents(documents)"
   ]
  },
  {
   "cell_type": "code",
   "execution_count": 11,
   "id": "3264813f-b63d-4f19-868b-4cfc0e15b588",
   "metadata": {},
   "outputs": [],
   "source": [
    "# UPDATE: Since llma_index changed their library, the following code should replace the code above\n",
    "\n",
    "# Saving Index for future use. Run this cell if you need to save the index\n",
    "index.storage_context.persist()\n",
    "\n",
    "# Loading Index from local storage. Run this cell if you want to load an index to resume\n",
    "from llama_index import StorageContext, load_index_from_storage\n",
    "\n",
    "storage_context = StorageContext.from_defaults(persist_dir=\"./storage\")\n",
    "index = load_index_from_storage(storage_context)"
   ]
  },
  {
   "cell_type": "code",
   "execution_count": 16,
   "id": "aec19e05-6ec8-402a-a2ed-3cdb71b15261",
   "metadata": {},
   "outputs": [
    {
     "name": "stdout",
     "output_type": "stream",
     "text": [
      "\n",
      "RaiPay benötigt eine App auf Ihrem Handy, um Ihnen eine sichere und einfache Möglichkeit zu bieten, online zu bezahlen. Mit der App können Sie schnell und sicher bezahlen, indem Sie Ihr Smartphone-Display entsperren und Ihre Zahlung bestätigen.\n"
     ]
    }
   ],
   "source": [
    "# UPDATE: Since llma_index changed their library, the following code should replace the code above\n",
    "query_engine = index.as_query_engine()\n",
    "response = query_engine.query('Warum braucht ich eine RAIPAY im meinen Handy?')\n",
    "print(response)"
   ]
  },
  {
   "cell_type": "code",
   "execution_count": 1,
   "id": "692a0c24-56ea-4c8b-b89f-7ef900aa028b",
   "metadata": {},
   "outputs": [],
   "source": [
    "search_kwargs={\"k\": 1}"
   ]
  },
  {
   "cell_type": "code",
   "execution_count": 3,
   "id": "ab5c9634-3e94-4984-9da4-721fcae85f0c",
   "metadata": {},
   "outputs": [],
   "source": [
    "documents = SimpleDirectoryReader('./intent_docs/').load_data()"
   ]
  },
  {
   "cell_type": "code",
   "execution_count": 4,
   "id": "102ef407-1154-42e2-a8c9-a37d29f09122",
   "metadata": {},
   "outputs": [],
   "source": [
    "index = VectorStoreIndex.from_documents(documents)"
   ]
  },
  {
   "cell_type": "code",
   "execution_count": null,
   "id": "5b9e06e7-b1e2-4f8e-a779-656869879a36",
   "metadata": {},
   "outputs": [],
   "source": []
  }
 ],
 "metadata": {
  "kernelspec": {
   "display_name": "openai3.10",
   "language": "python",
   "name": "openai3.10"
  },
  "language_info": {
   "codemirror_mode": {
    "name": "ipython",
    "version": 3
   },
   "file_extension": ".py",
   "mimetype": "text/x-python",
   "name": "python",
   "nbconvert_exporter": "python",
   "pygments_lexer": "ipython3",
   "version": "3.10.6"
  }
 },
 "nbformat": 4,
 "nbformat_minor": 5
}
