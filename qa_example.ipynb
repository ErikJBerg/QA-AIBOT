{
 "cells": [
  {
   "cell_type": "code",
   "execution_count": 3,
   "id": "578eb155-4134-4905-950f-080a553a8d7f",
   "metadata": {},
   "outputs": [],
   "source": [
    "import openai\n",
    "\n",
    "from llama_index import VectorStoreIndex, SimpleDirectoryReader, StorageContext, load_index_from_storage"
   ]
  },
  {
   "cell_type": "code",
   "execution_count": 2,
   "id": "a7281e44-cf16-41dd-9b41-8ed455d5459d",
   "metadata": {},
   "outputs": [],
   "source": [
    "openai.api_key = 'sk-XXXX'"
   ]
  },
  {
   "cell_type": "code",
   "execution_count": 5,
   "id": "4180a006-ed4b-4fc9-9603-7dd432396a52",
   "metadata": {},
   "outputs": [],
   "source": [
    "storage_context = StorageContext.from_defaults(persist_dir=\"./storage\")\n",
    "index = load_index_from_storage(storage_context)"
   ]
  },
  {
   "cell_type": "markdown",
   "id": "b63258d2-34a2-4106-bd89-abd9d643591d",
   "metadata": {},
   "source": [
    "#### Query my index with a question"
   ]
  },
  {
   "cell_type": "code",
   "execution_count": 6,
   "id": "64cd5579-86c3-405e-81f2-004dc1770bd1",
   "metadata": {},
   "outputs": [
    {
     "name": "stdout",
     "output_type": "stream",
     "text": [
      "\n",
      "RaiPay benötigt eine App auf Ihrem Handy, um Ihnen eine sichere und einfache Möglichkeit zu bieten, online zu bezahlen. Mit der App können Sie schnell und sicher bezahlen, indem Sie Ihr Smartphone-Display entsperren und Ihre Zahlung bestätigen.\n"
     ]
    }
   ],
   "source": [
    "query_engine = index.as_query_engine()\n",
    "response = query_engine.query('Warum braucht ich eine RAIPAY im meinen Handy?')\n",
    "print(response)"
   ]
  },
  {
   "cell_type": "code",
   "execution_count": null,
   "id": "7246db5d-8efd-4839-bb0b-2d7a19fbcd0f",
   "metadata": {},
   "outputs": [],
   "source": []
  }
 ],
 "metadata": {
  "kernelspec": {
   "display_name": "openai3.10",
   "language": "python",
   "name": "openai3.10"
  },
  "language_info": {
   "codemirror_mode": {
    "name": "ipython",
    "version": 3
   },
   "file_extension": ".py",
   "mimetype": "text/x-python",
   "name": "python",
   "nbconvert_exporter": "python",
   "pygments_lexer": "ipython3",
   "version": "3.10.6"
  }
 },
 "nbformat": 4,
 "nbformat_minor": 5
}
