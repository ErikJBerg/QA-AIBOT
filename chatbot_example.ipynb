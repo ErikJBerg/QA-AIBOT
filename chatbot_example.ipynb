{
 "cells": [
  {
   "cell_type": "code",
   "execution_count": 1,
   "id": "37a0e10f-d230-4997-bce2-0b1d6be69b51",
   "metadata": {},
   "outputs": [],
   "source": [
    "import openai\n",
    "\n",
    "openai.api_key = 'sk-XXXX'"
   ]
  },
  {
   "cell_type": "code",
   "execution_count": 17,
   "id": "4a062d0a-ae89-486d-b62f-6062e94064e4",
   "metadata": {},
   "outputs": [],
   "source": [
    "from langchain.memory import ConversationBufferMemory\n",
    "from langchain.llms import OpenAI\n",
    "from langchain.chains import ConversationChain"
   ]
  },
  {
   "cell_type": "code",
   "execution_count": 22,
   "id": "236027a7-b319-49df-8d15-88cc442a7d8c",
   "metadata": {},
   "outputs": [],
   "source": [
    "memory = ConversationBufferMemory()\n",
    "memory.chat_memory.add_user_message(\"Hallo, könnten Sie mir ein paar Fragen zu Deutschland beantworten?\")\n",
    "memory.chat_memory.add_ai_message(\"Natürlich.\")"
   ]
  },
  {
   "cell_type": "code",
   "execution_count": 23,
   "id": "2de25fd3-7ab4-42bb-981c-e8cf12b244c2",
   "metadata": {},
   "outputs": [
    {
     "data": {
      "text/plain": [
       "{'history': 'Human: Hallo, könnten Sie mir ein paar Fragen zu Deutschland beantworten?\\nAI: Natürlich.'}"
      ]
     },
     "execution_count": 23,
     "metadata": {},
     "output_type": "execute_result"
    }
   ],
   "source": [
    "memory.load_memory_variables({})"
   ]
  },
  {
   "cell_type": "code",
   "execution_count": 24,
   "id": "249332f1-66a0-4ebe-bd89-e8ab792fc693",
   "metadata": {},
   "outputs": [],
   "source": [
    "llm = OpenAI(temperature=0, openai_api_key=openai.api_key)\n",
    "conversation = ConversationChain(\n",
    "    llm=llm, \n",
    "    verbose=True, \n",
    "    memory=memory\n",
    ")\n",
    "\n"
   ]
  },
  {
   "cell_type": "code",
   "execution_count": 25,
   "id": "aefa5138-20e7-4f3e-bb67-aeffc4cccce0",
   "metadata": {},
   "outputs": [
    {
     "name": "stdout",
     "output_type": "stream",
     "text": [
      "\n",
      "\n",
      "\u001b[1m> Entering new  chain...\u001b[0m\n",
      "Prompt after formatting:\n",
      "\u001b[32;1m\u001b[1;3mThe following is a friendly conversation between a human and an AI. The AI is talkative and provides lots of specific details from its context. If the AI does not know the answer to a question, it truthfully says it does not know.\n",
      "\n",
      "Current conversation:\n",
      "Human: Hallo, könnten Sie mir ein paar Fragen zu Deutschland beantworten?\n",
      "AI: Natürlich.\n",
      "Human: was hat ich vragen before?\n",
      "AI:\u001b[0m\n",
      "\n",
      "\u001b[1m> Finished chain.\u001b[0m\n"
     ]
    },
    {
     "data": {
      "text/plain": [
       "' Du hast gefragt, ob ich dir ein paar Fragen zu Deutschland beantworten kann.'"
      ]
     },
     "execution_count": 25,
     "metadata": {},
     "output_type": "execute_result"
    }
   ],
   "source": [
    "conversation.predict(input='was hat ich vragen before?')"
   ]
  },
  {
   "cell_type": "code",
   "execution_count": null,
   "id": "ad0e7212-6576-40ac-bf8a-6e719cfbec4d",
   "metadata": {},
   "outputs": [],
   "source": []
  }
 ],
 "metadata": {
  "kernelspec": {
   "display_name": "openai3.10",
   "language": "python",
   "name": "openai3.10"
  },
  "language_info": {
   "codemirror_mode": {
    "name": "ipython",
    "version": 3
   },
   "file_extension": ".py",
   "mimetype": "text/x-python",
   "name": "python",
   "nbconvert_exporter": "python",
   "pygments_lexer": "ipython3",
   "version": "3.10.6"
  }
 },
 "nbformat": 4,
 "nbformat_minor": 5
}
