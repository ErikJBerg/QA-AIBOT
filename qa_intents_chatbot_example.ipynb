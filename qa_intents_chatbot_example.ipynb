{
 "cells": [
  {
   "cell_type": "code",
   "execution_count": 1,
   "id": "d66a7b42-8fd2-4a26-a9db-07e6bec2f627",
   "metadata": {},
   "outputs": [],
   "source": [
    "import openai\n",
    "\n",
    "openai.api_key = 'sk-XXX'"
   ]
  },
  {
   "cell_type": "code",
   "execution_count": 2,
   "id": "11787493-bfdc-4aa2-8296-406247da6e5b",
   "metadata": {},
   "outputs": [],
   "source": [
    "from langchain.embeddings.openai import OpenAIEmbeddings\n",
    "from langchain.vectorstores import Chroma\n",
    "from langchain.llms import OpenAI\n",
    "from langchain.chains import ConversationalRetrievalChain"
   ]
  },
  {
   "cell_type": "markdown",
   "id": "1a60b943-eda8-4bab-9992-3f8dc8961d08",
   "metadata": {},
   "source": [
    "### First solution for stage 1 of usecase:\n",
    "- Switching between retrieval chains as intent recognition\n",
    "- RetrievalQA chain uses load_qa_chain under the hood, retrieving relevant chunks of text and feeding those to the language model"
   ]
  },
  {
   "cell_type": "code",
   "execution_count": 3,
   "id": "52d7d91a-e966-49db-97ac-fe0e88aa5a6b",
   "metadata": {},
   "outputs": [],
   "source": [
    "embeddings = OpenAIEmbeddings(openai_api_key=openai.api_key)"
   ]
  },
  {
   "cell_type": "code",
   "execution_count": 4,
   "id": "30cb4117-5821-49ac-bbbb-ec5a9ccc3aeb",
   "metadata": {},
   "outputs": [],
   "source": [
    "# Now we can load the persisted database from disk, and use it as normal. \n",
    "vectorstore = Chroma(persist_directory='./chroma_storage/', embedding_function=embeddings)\n",
    "vectorstore_intents = Chroma(persist_directory='./chroma_storage_intents/', embedding_function=embeddings)"
   ]
  },
  {
   "cell_type": "code",
   "execution_count": 5,
   "id": "17250115-65f4-4431-8031-0e8c6aff3dd8",
   "metadata": {},
   "outputs": [],
   "source": [
    "from langchain.memory import ConversationBufferMemory\n",
    "memory = ConversationBufferMemory(\n",
    "    memory_key=\"chat_history\", \n",
    "    return_messages=True,\n",
    "    input_key='question', output_key='answer'\n",
    ")"
   ]
  },
  {
   "cell_type": "code",
   "execution_count": 6,
   "id": "6dd1d65c-9a84-4037-bea6-bc6466c12378",
   "metadata": {},
   "outputs": [],
   "source": [
    "qa_raipay = ConversationalRetrievalChain.from_llm(\n",
    "    OpenAI(temperature=0, openai_api_key=openai.api_key), \n",
    "    vectorstore.as_retriever(), \n",
    "    memory=memory,\n",
    "    return_source_documents=True\n",
    ")"
   ]
  },
  {
   "cell_type": "code",
   "execution_count": 7,
   "id": "9ca71b79-b780-446e-921a-f06e3aae0911",
   "metadata": {},
   "outputs": [
    {
     "data": {
      "text/plain": [
       "{'question': 'Kannen sie im ausland RAIPAY nutze?',\n",
       " 'chat_history': [HumanMessage(content='Kannen sie im ausland RAIPAY nutze?', additional_kwargs={}, example=False),\n",
       "  AIMessage(content=' Ja, Sie können mit RaiPay auch im Ausland an Terminals kontaktlos bezahlen oder Bargeld an Geldautomaten abheben, die mit einem kontaktlosen Lesegerät ausgestattet sind. Das Verfahren ist das Gleiche wie in Österreich.', additional_kwargs={}, example=False)],\n",
       " 'answer': ' Ja, Sie können mit RaiPay auch im Ausland an Terminals kontaktlos bezahlen oder Bargeld an Geldautomaten abheben, die mit einem kontaktlosen Lesegerät ausgestattet sind. Das Verfahren ist das Gleiche wie in Österreich.',\n",
       " 'source_documents': [Document(page_content='KANN ICH MIT RAIPAY AUCH IM AUSLAND ZAHLEN? Ja, Sie können mit RaiPay auch im Ausland an Terminals kontaktlos bezahlen oder Bargeld an Geldautomaten abheben, die mit einem kontaktlosen Lesegerät ausgestattet sind. Das Verfahren ist das Gleiche wie in Österreich.', metadata={'source': 'qa_docs/qa.7.txt'}),\n",
       "  Document(page_content='WO KANN ICH MIT RAIPAY BEZAHLEN? Sie können RaiPay nutzen, wo Sie auch schon jetzt mit Ihrer Karte kontaktlos bezahlen können.', metadata={'source': 'qa_docs/qa.3.txt'}),\n",
       "  Document(page_content='KANN ICH UNABSICHTLICH IM VORÜBERGEHEN MIT RAIPAY BEZAHLEN? Eine unbeabsichtigte Zahlung im Vorübergehen kann nicht erfolgen, da das Smartphone Display dazu aufgeweckt werden muss. RaiPay bietet die gleichen hohen Sicherheits-Standards, die Sie bereits von Ihrer physischen Debitkarte gewohnt sind.', metadata={'source': 'qa_docs/qa.24.txt'}),\n",
       "  Document(page_content='KANN ICH JEDE KARTE ZU RAIPAY HINZUFÜGEN? Derzeit können Sie alle Raiffeisen Debitkarten (Maestro oder Debit Mastercard) und Raiffeisen Kreditkarten in RaiPay verwenden. Raiffeisen Kreditkarten von PayLife und CardComplete werden nicht von RaiPay unterstützt.', metadata={'source': 'qa_docs/qa.15.txt'})]}"
      ]
     },
     "execution_count": 7,
     "metadata": {},
     "output_type": "execute_result"
    }
   ],
   "source": [
    "query = \"Kannen sie im ausland RAIPAY nutze?\"\n",
    "result = qa_raipay({\"question\": query})\n",
    "result"
   ]
  },
  {
   "cell_type": "code",
   "execution_count": 8,
   "id": "0fdb71e9-56eb-4f06-b1f5-6a4de9347926",
   "metadata": {},
   "outputs": [],
   "source": [
    "qa_open_block = ConversationalRetrievalChain.from_llm(\n",
    "    OpenAI(temperature=0, openai_api_key=openai.api_key), \n",
    "    vectorstore_intents.as_retriever(), \n",
    "    memory=memory,\n",
    "    return_source_documents=True\n",
    ")"
   ]
  },
  {
   "cell_type": "code",
   "execution_count": 9,
   "id": "8919b1ae-f018-4193-9705-4529e4f845b9",
   "metadata": {},
   "outputs": [
    {
     "name": "stderr",
     "output_type": "stream",
     "text": [
      "Number of requested results 4 is greater than number of elements in index 2, updating n_results = 2\n"
     ]
    },
    {
     "data": {
      "text/plain": [
       "{'question': 'Kannen ich einen account geofnen?',\n",
       " 'chat_history': [HumanMessage(content='Kannen sie im ausland RAIPAY nutze?', additional_kwargs={}, example=False),\n",
       "  AIMessage(content=' Ja, Sie können mit RaiPay auch im Ausland an Terminals kontaktlos bezahlen oder Bargeld an Geldautomaten abheben, die mit einem kontaktlosen Lesegerät ausgestattet sind. Das Verfahren ist das Gleiche wie in Österreich.', additional_kwargs={}, example=False),\n",
       "  HumanMessage(content='Kannen ich einen account geofnen?', additional_kwargs={}, example=False),\n",
       "  AIMessage(content=' Nein, ich kenne keine Möglichkeit, ein RaiPay-Konto zu eröffnen.', additional_kwargs={}, example=False)],\n",
       " 'answer': ' Nein, ich kenne keine Möglichkeit, ein RaiPay-Konto zu eröffnen.',\n",
       " 'source_documents': [Document(page_content='Open Account In order to open an account, the operator needs to obtain the type of desired account (current or savings), the name of the client, the address of the client (street, city, postcode, country) and the job name of the client. Once all information is obtained, make an api call to https://openaccount.fake with all parameters as a json dictionary. The api returns “success” or “failure”', metadata={'source': 'intent_docs/open.txt'}),\n",
       "  Document(page_content='Block Card A card can be blocked if the user lost it or if it got stolen. In order to block a card, the operator needs to get the brand of the card, the last 4-digit numbers and the expiration date. Additionally, the operator must obtain the reason for blocking (lost / stolen) Once all information are obtained, make an api call to https://blockcard.fake with all parameters as a json dictionary. The api returns “success” or “failure”', metadata={'source': 'intent_docs/block.txt'})]}"
      ]
     },
     "execution_count": 9,
     "metadata": {},
     "output_type": "execute_result"
    }
   ],
   "source": [
    "query = \"Kannen ich einen account geofnen?\"\n",
    "result = qa_open_block({\"question\": query})\n",
    "result"
   ]
  },
  {
   "cell_type": "markdown",
   "id": "e9df5d5a-bdcc-49d3-aff2-3ff3c8b7d747",
   "metadata": {},
   "source": [
    "### Intent recognition through QA selector"
   ]
  },
  {
   "cell_type": "code",
   "execution_count": 10,
   "id": "ec3d7496-cb83-420b-ad9a-599f8dd8a4db",
   "metadata": {},
   "outputs": [],
   "source": [
    "from langchain import PromptTemplate\n",
    "from langchain.chains import ConversationChain"
   ]
  },
  {
   "cell_type": "code",
   "execution_count": 29,
   "id": "ecd097a7-f5d1-4b96-a39e-9d9782bb1530",
   "metadata": {},
   "outputs": [],
   "source": [
    "retriever_chains = [\n",
    "    {\n",
    "        \"name\": \"RAIPAY mobile banking application\", \n",
    "        \"description\": \"Good for answering questions about mobile banking and RAIPAY mobile banking application\", \n",
    "        \"retriever\": qa_raipay\n",
    "    },\n",
    "    {\n",
    "        \"name\": \"Open or block account\", \n",
    "        \"description\": \"Good for finding out what to do and what to ask if one wants to open a new bank account or block his bank card\", \n",
    "        \"retriever\": qa_open_block\n",
    "    }\n",
    "]\n",
    "\n",
    "DEFAULT_TEMPLATE = \"\"\"You are an intent recognizing AI.\n",
    "\n",
    "Based on human input choose only one of these intents:\n",
    "open bank account\n",
    "block bank card\n",
    "asking questions about RAIPAY banking application\n",
    "chitchat\n",
    "\n",
    "Current conversation:\n",
    "{chat_history}\n",
    "Human: {question}\n",
    "AI:\"\"\"\n",
    "\n",
    "memory = ConversationBufferMemory(\n",
    "    memory_key=\"chat_history\", \n",
    "    return_messages=True,\n",
    "    input_key='question', output_key='answer'\n",
    ")\n",
    "\n",
    "prompt_default_template = DEFAULT_TEMPLATE.replace('input', 'question')\n",
    "\n",
    "prompt_default = PromptTemplate(\n",
    "    template=prompt_default_template, input_variables=['chat_history', 'question']\n",
    ")\n",
    "default_chain=ConversationChain(\n",
    "    llm=OpenAI(openai_api_key=openai.api_key), \n",
    "    prompt=prompt_default, \n",
    "    input_key='question', \n",
    "    output_key='answer',\n",
    "    memory=memory\n",
    ")\n"
   ]
  },
  {
   "cell_type": "code",
   "execution_count": 31,
   "id": "551fc6f8-ee87-4172-a9fc-cfddca706fb2",
   "metadata": {},
   "outputs": [
    {
     "name": "stdout",
     "output_type": "stream",
     "text": [
      " Chitchat.\n"
     ]
    }
   ],
   "source": [
    "print(default_chain.run('Wie gehts?'))"
   ]
  },
  {
   "cell_type": "code",
   "execution_count": null,
   "id": "5cea089f-29d3-4699-ab7f-933bdd158b85",
   "metadata": {},
   "outputs": [],
   "source": []
  }
 ],
 "metadata": {
  "kernelspec": {
   "display_name": "openai3.10",
   "language": "python",
   "name": "openai3.10"
  },
  "language_info": {
   "codemirror_mode": {
    "name": "ipython",
    "version": 3
   },
   "file_extension": ".py",
   "mimetype": "text/x-python",
   "name": "python",
   "nbconvert_exporter": "python",
   "pygments_lexer": "ipython3",
   "version": "3.10.6"
  }
 },
 "nbformat": 4,
 "nbformat_minor": 5
}
