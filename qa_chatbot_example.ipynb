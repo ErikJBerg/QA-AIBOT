{
 "cells": [
  {
   "cell_type": "code",
   "execution_count": 3,
   "id": "d66a7b42-8fd2-4a26-a9db-07e6bec2f627",
   "metadata": {},
   "outputs": [],
   "source": [
    "import openai\n",
    "\n",
    "openai.api_key = 'sk-XXXX'"
   ]
  },
  {
   "cell_type": "code",
   "execution_count": 1,
   "id": "11787493-bfdc-4aa2-8296-406247da6e5b",
   "metadata": {},
   "outputs": [],
   "source": [
    "from langchain.embeddings.openai import OpenAIEmbeddings\n",
    "from langchain.vectorstores import Chroma\n",
    "from langchain.llms import OpenAI\n",
    "from langchain.chains import ConversationalRetrievalChain"
   ]
  },
  {
   "cell_type": "markdown",
   "id": "1a60b943-eda8-4bab-9992-3f8dc8961d08",
   "metadata": {},
   "source": [
    "### Final solution for stage 1 of usecase:\n",
    "- RetrievalQA chain uses load_qa_chain under the hood, retrieving relevant chunks of text and feeding those to the language model"
   ]
  },
  {
   "cell_type": "code",
   "execution_count": 4,
   "id": "bb7754ea-0286-47fb-baa9-affd6af1e660",
   "metadata": {},
   "outputs": [],
   "source": [
    "from langchain.document_loaders import DirectoryLoader\n",
    "\n",
    "loader = DirectoryLoader('./qa_docs/', glob=\"**/*.txt\")\n",
    "\n",
    "documents = loader.load()"
   ]
  },
  {
   "cell_type": "code",
   "execution_count": 5,
   "id": "076b26aa-a736-4467-9822-2bc78f3c0d8e",
   "metadata": {},
   "outputs": [
    {
     "data": {
      "text/plain": [
       "[Document(page_content='\\n  \\n    \\n      Wir empfehlen Ihnen\\n      die Kartensperrhotline anzurufen. Auf Ihren Wunsch hin werden wir die\\n    \\n    \\n      digitale Debitkarte Ihres Smartphones sperren\\n      um Missbrauch zu verhindern.\\n    \\n  \\n', metadata={'source': 'qa_docs/qa.40.txt'}),\n",
       " Document(page_content='WARUM IST RAIPAY NICHT MIT DEM ENTWICKLER:INNENMODUS AUF MEINEM SMARTPHONE KOMPATIBEL? Die aktuellen Sicherheitseinstellungen der RaiPay App erlauben keine App Nutzung mit aktiviertem Entwickler:innenmodus am Smartphone. Wir arbeiten aber bereits an einer zukünftigen Aufhebung dieser Einschränkung um das RaiPay Nutzererlebnis für unsere Kund:innen noch weiter zu verbessern.', metadata={'source': 'qa_docs/qa.33.txt'})]"
      ]
     },
     "execution_count": 5,
     "metadata": {},
     "output_type": "execute_result"
    }
   ],
   "source": [
    "documents[:2]"
   ]
  },
  {
   "cell_type": "code",
   "execution_count": 5,
   "id": "52d7d91a-e966-49db-97ac-fe0e88aa5a6b",
   "metadata": {},
   "outputs": [],
   "source": [
    "embeddings = OpenAIEmbeddings(openai_api_key=openai.api_key)"
   ]
  },
  {
   "cell_type": "code",
   "execution_count": null,
   "id": "aa0f6dcf-89ce-4c91-a1ea-d425a023ea11",
   "metadata": {},
   "outputs": [],
   "source": [
    "vectorstore = Chroma.from_documents(documents, embeddings, persist_directory='./chroma_storage')"
   ]
  },
  {
   "cell_type": "code",
   "execution_count": 39,
   "id": "fb47b9ac-769e-45dd-9e40-0424375291c8",
   "metadata": {},
   "outputs": [],
   "source": [
    "vectorstore.persist()\n",
    "vectorstore = None"
   ]
  },
  {
   "cell_type": "code",
   "execution_count": 6,
   "id": "30cb4117-5821-49ac-bbbb-ec5a9ccc3aeb",
   "metadata": {},
   "outputs": [],
   "source": [
    "# Now we can load the persisted database from disk, and use it as normal. \n",
    "vectorstore = Chroma(persist_directory='./chroma_storage/', embedding_function=embeddings)\n"
   ]
  },
  {
   "cell_type": "code",
   "execution_count": 7,
   "id": "17250115-65f4-4431-8031-0e8c6aff3dd8",
   "metadata": {},
   "outputs": [],
   "source": [
    "from langchain.memory import ConversationBufferMemory\n",
    "memory = ConversationBufferMemory(\n",
    "    memory_key=\"chat_history\", \n",
    "    return_messages=True,\n",
    "    input_key='question', output_key='answer'\n",
    ")"
   ]
  },
  {
   "cell_type": "code",
   "execution_count": 8,
   "id": "6dd1d65c-9a84-4037-bea6-bc6466c12378",
   "metadata": {},
   "outputs": [],
   "source": [
    "qa = ConversationalRetrievalChain.from_llm(\n",
    "    OpenAI(temperature=0, openai_api_key=openai.api_key), \n",
    "    vectorstore.as_retriever(), \n",
    "    memory=memory,\n",
    "    return_source_documents=True\n",
    ")"
   ]
  },
  {
   "cell_type": "code",
   "execution_count": 9,
   "id": "9ca71b79-b780-446e-921a-f06e3aae0911",
   "metadata": {},
   "outputs": [
    {
     "data": {
      "text/plain": [
       "{'question': 'Kannen sie im ausland RAIPAY nutze?',\n",
       " 'chat_history': [HumanMessage(content='Kannen sie im ausland RAIPAY nutze?', additional_kwargs={}, example=False),\n",
       "  AIMessage(content=' Ja, Sie können mit RaiPay auch im Ausland an Terminals kontaktlos bezahlen oder Bargeld an Geldautomaten abheben, die mit einem kontaktlosen Lesegerät ausgestattet sind. Das Verfahren ist das Gleiche wie in Österreich.', additional_kwargs={}, example=False)],\n",
       " 'answer': ' Ja, Sie können mit RaiPay auch im Ausland an Terminals kontaktlos bezahlen oder Bargeld an Geldautomaten abheben, die mit einem kontaktlosen Lesegerät ausgestattet sind. Das Verfahren ist das Gleiche wie in Österreich.',\n",
       " 'source_documents': [Document(page_content='KANN ICH MIT RAIPAY AUCH IM AUSLAND ZAHLEN? Ja, Sie können mit RaiPay auch im Ausland an Terminals kontaktlos bezahlen oder Bargeld an Geldautomaten abheben, die mit einem kontaktlosen Lesegerät ausgestattet sind. Das Verfahren ist das Gleiche wie in Österreich.', metadata={'source': 'qa_docs/qa.7.txt'}),\n",
       "  Document(page_content='WO KANN ICH MIT RAIPAY BEZAHLEN? Sie können RaiPay nutzen, wo Sie auch schon jetzt mit Ihrer Karte kontaktlos bezahlen können.', metadata={'source': 'qa_docs/qa.3.txt'}),\n",
       "  Document(page_content='KANN ICH UNABSICHTLICH IM VORÜBERGEHEN MIT RAIPAY BEZAHLEN? Eine unbeabsichtigte Zahlung im Vorübergehen kann nicht erfolgen, da das Smartphone Display dazu aufgeweckt werden muss. RaiPay bietet die gleichen hohen Sicherheits-Standards, die Sie bereits von Ihrer physischen Debitkarte gewohnt sind.', metadata={'source': 'qa_docs/qa.24.txt'}),\n",
       "  Document(page_content='KANN ICH JEDE KARTE ZU RAIPAY HINZUFÜGEN? Derzeit können Sie alle Raiffeisen Debitkarten (Maestro oder Debit Mastercard) und Raiffeisen Kreditkarten in RaiPay verwenden. Raiffeisen Kreditkarten von PayLife und CardComplete werden nicht von RaiPay unterstützt.', metadata={'source': 'qa_docs/qa.15.txt'})]}"
      ]
     },
     "execution_count": 9,
     "metadata": {},
     "output_type": "execute_result"
    }
   ],
   "source": [
    "query = \"Kannen sie im ausland RAIPAY nutze?\"\n",
    "result = qa({\"question\": query})\n",
    "result"
   ]
  },
  {
   "cell_type": "code",
   "execution_count": 17,
   "id": "0fdb71e9-56eb-4f06-b1f5-6a4de9347926",
   "metadata": {},
   "outputs": [
    {
     "data": {
      "text/plain": [
       "{'question': 'Und giebt es einen limit fur zahlung?',\n",
       " 'chat_history': [HumanMessage(content='Kannen sie im ausland RAIPAY nutze?', additional_kwargs={}, example=False),\n",
       "  AIMessage(content=' Ja, Sie können mit RaiPay auch im Ausland an Terminals kontaktlos bezahlen oder Bargeld an Geldautomaten abheben, die mit einem kontaktlosen Lesegerät ausgestattet sind. Das Verfahren ist das Gleiche wie in Österreich.', additional_kwargs={}, example=False),\n",
       "  HumanMessage(content='Kannen sie im ausland RAIPAY nutze?', additional_kwargs={}, example=False),\n",
       "  AIMessage(content=' Ja, Sie können mit RaiPay auch im Ausland an Terminals kontaktlos bezahlen oder Bargeld an Geldautomaten abheben, die mit einem kontaktlosen Lesegerät ausgestattet sind. Das Verfahren ist das Gleiche wie in Österreich.', additional_kwargs={}, example=False),\n",
       "  HumanMessage(content='Kannen sie im ausland RAIPAY nutze?', additional_kwargs={}, example=False),\n",
       "  AIMessage(content=' Ja, Sie können mit RaiPay auch im Ausland an Terminals kontaktlos bezahlen oder Bargeld an Geldautomaten abheben, die mit einem kontaktlosen Lesegerät ausgestattet sind. Das Verfahren ist das Gleiche wie in Österreich.', additional_kwargs={}, example=False),\n",
       "  HumanMessage(content='Kannen sie im ausland RAIPAY nutze?', additional_kwargs={}, example=False),\n",
       "  AIMessage(content=' Ja, Sie können mit RaiPay auch im Ausland an Terminals kontaktlos bezahlen oder Bargeld an Geldautomaten abheben, die mit einem kontaktlosen Lesegerät ausgestattet sind. Das Verfahren ist das Gleiche wie in Österreich.', additional_kwargs={}, example=False),\n",
       "  HumanMessage(content='Kannen sie im ausland RAIPAY nutze?', additional_kwargs={}, example=False),\n",
       "  AIMessage(content=' Ja, Sie können mit RaiPay auch im Ausland an Terminals kontaktlos bezahlen oder Bargeld an Geldautomaten abheben, die mit einem kontaktlosen Lesegerät ausgestattet sind. Das Verfahren ist das Gleiche wie in Österreich.', additional_kwargs={}, example=False),\n",
       "  HumanMessage(content='Und giebt es einen limit fur zahlung?', additional_kwargs={}, example=False),\n",
       "  AIMessage(content=' Nein, es gibt kein Limit für Zahlungen mit RaiPay im Ausland.', additional_kwargs={}, example=False)],\n",
       " 'answer': ' Nein, es gibt kein Limit für Zahlungen mit RaiPay im Ausland.',\n",
       " 'source_documents': [Document(page_content='KANN ICH MIT RAIPAY AUCH IM AUSLAND ZAHLEN? Ja, Sie können mit RaiPay auch im Ausland an Terminals kontaktlos bezahlen oder Bargeld an Geldautomaten abheben, die mit einem kontaktlosen Lesegerät ausgestattet sind. Das Verfahren ist das Gleiche wie in Österreich.', metadata={'source': 'qa_docs/qa.7.txt'}),\n",
       "  Document(page_content='GIBT ES EINE FUNKTION \"GELD ANFORDERN\"? Eine derartige Funktion steht in RaiPay nicht zur Verfügung.', metadata={'source': 'qa_docs/qa.13.txt'}),\n",
       "  Document(page_content='KANN ICH MITTELS DER FUNKTION \"GELD SENDEN\" GELD AN EINE DIGITALE DEBITKARTE SENDEN? Diese Funktion ist aktuell nicht im Funktionsumfang von RaiPay enthalten.', metadata={'source': 'qa_docs/qa.14.txt'}),\n",
       "  Document(page_content='WIE ZAHLE ICH MIT RAIPAY IM GESCHÄFT (ZAHLUNG MIT RAIPAY NUR UNTER ANDROID MÖGLICH)? RaiPay bietet Kund:innen standardmäßig die Möglichkeit smart zu bezahlen (Standardeinstellung Smart bezahlen). • Smart bezahlen – volle Flexibilität für unsere Kund:innen Beträge bis EUR 50,- können mit bloßem Hinhalten des Smartphones (aufgewecktes Display) bezahlt werden. Höhere Beträge müssen durch Autorisierung freigegeben werden. Die Bezahlung startet in RaiPay und wird mit dem Button „Jetzt bezahlen“ und Hinhalten des Smartphones freigegeben. Zusätzlich zu smart bezahlen stehen noch zwei weitere Zahlungs-Einstellungen zur Verfügung: • Schnell bezahlen (zusätzliche Option) Beträge bis EUR 50,- können mit bloßem Hinhalten des Smartphones (aufgewecktes Display) bezahlt werden. Höhere Beträge müssen durch Autorisierung (mittels weniger Klicks am Smartphone) und erneutes Hinhalten an das POS Terminal freigegeben werden. Der Button „Jetzt bezahlen“ fällt weg. • Jede Zahlung in RaiPay freigeben (zusätzliche Option) Sämtliche Beträge werden mit dem Button „Jetzt bezahlen“ und Hinhalten an das POS Terminal freigegeben.', metadata={'source': 'qa_docs/qa.4.txt'})]}"
      ]
     },
     "execution_count": 17,
     "metadata": {},
     "output_type": "execute_result"
    }
   ],
   "source": [
    "query = \"Und giebt es einen limit fur zahlung?\"\n",
    "result = qa({\"question\": query})\n",
    "result"
   ]
  },
  {
   "cell_type": "code",
   "execution_count": 21,
   "id": "8ea55f63-e8ac-4267-8f2b-5319ebabbdcd",
   "metadata": {},
   "outputs": [
    {
     "data": {
      "text/plain": [
       "{'question': 'Vie viele baren sind im Slowakei?',\n",
       " 'vectordbkwargs': {'search_distance': 0.99},\n",
       " 'chat_history': [HumanMessage(content='Kannen sie im ausland RAIPAY nutze?', additional_kwargs={}, example=False),\n",
       "  AIMessage(content=' Ja, Sie können mit RaiPay auch im Ausland an Terminals kontaktlos bezahlen oder Bargeld an Geldautomaten abheben, die mit einem kontaktlosen Lesegerät ausgestattet sind. Das Verfahren ist das Gleiche wie in Österreich.', additional_kwargs={}, example=False),\n",
       "  HumanMessage(content='Kannen sie im ausland RAIPAY nutze?', additional_kwargs={}, example=False),\n",
       "  AIMessage(content=' Ja, Sie können mit RaiPay auch im Ausland an Terminals kontaktlos bezahlen oder Bargeld an Geldautomaten abheben, die mit einem kontaktlosen Lesegerät ausgestattet sind. Das Verfahren ist das Gleiche wie in Österreich.', additional_kwargs={}, example=False),\n",
       "  HumanMessage(content='Kannen sie im ausland RAIPAY nutze?', additional_kwargs={}, example=False),\n",
       "  AIMessage(content=' Ja, Sie können mit RaiPay auch im Ausland an Terminals kontaktlos bezahlen oder Bargeld an Geldautomaten abheben, die mit einem kontaktlosen Lesegerät ausgestattet sind. Das Verfahren ist das Gleiche wie in Österreich.', additional_kwargs={}, example=False),\n",
       "  HumanMessage(content='Kannen sie im ausland RAIPAY nutze?', additional_kwargs={}, example=False),\n",
       "  AIMessage(content=' Ja, Sie können mit RaiPay auch im Ausland an Terminals kontaktlos bezahlen oder Bargeld an Geldautomaten abheben, die mit einem kontaktlosen Lesegerät ausgestattet sind. Das Verfahren ist das Gleiche wie in Österreich.', additional_kwargs={}, example=False),\n",
       "  HumanMessage(content='Kannen sie im ausland RAIPAY nutze?', additional_kwargs={}, example=False),\n",
       "  AIMessage(content=' Ja, Sie können mit RaiPay auch im Ausland an Terminals kontaktlos bezahlen oder Bargeld an Geldautomaten abheben, die mit einem kontaktlosen Lesegerät ausgestattet sind. Das Verfahren ist das Gleiche wie in Österreich.', additional_kwargs={}, example=False),\n",
       "  HumanMessage(content='Und giebt es einen limit fur zahlung?', additional_kwargs={}, example=False),\n",
       "  AIMessage(content=' Nein, es gibt kein Limit für Zahlungen mit RaiPay im Ausland.', additional_kwargs={}, example=False),\n",
       "  HumanMessage(content='Vie viele baren sind im Slowakei?', additional_kwargs={}, example=False),\n",
       "  AIMessage(content=' Ich weiß es nicht.', additional_kwargs={}, example=False),\n",
       "  HumanMessage(content='Vie viele baren sind im Slowakei?', additional_kwargs={}, example=False),\n",
       "  AIMessage(content=' Ich weiß es nicht.', additional_kwargs={}, example=False),\n",
       "  HumanMessage(content='Vie viele baren sind im Slowakei?', additional_kwargs={}, example=False),\n",
       "  AIMessage(content=' Ich weiß es nicht.', additional_kwargs={}, example=False)],\n",
       " 'answer': ' Ich weiß es nicht.',\n",
       " 'source_documents': [Document(page_content='KANN ICH MIT RAIPAY AUCH IM AUSLAND ZAHLEN? Ja, Sie können mit RaiPay auch im Ausland an Terminals kontaktlos bezahlen oder Bargeld an Geldautomaten abheben, die mit einem kontaktlosen Lesegerät ausgestattet sind. Das Verfahren ist das Gleiche wie in Österreich.', metadata={'source': 'qa_docs/qa.7.txt'}),\n",
       "  Document(page_content='WIE KANN ICH MIT RAIPAY GELD ABHEBEN? Starten Sie die Bargeldbehebung in der geöffneten RaiPay App mit „Jetzt bezahlen“ und halten Sie Ihr Android Smartphone an das NFC Symbol am Bankomaten.', metadata={'source': 'qa_docs/qa.11.txt'}),\n",
       "  Document(page_content='Wie kann ich mobile Zahlungen auf dem Kontoauszug oder in der Transaktionsübersicht erkennen? Durchgeführte Zahlungen oder Abhebungen an einem Geldausgabeautomaten werden Ihnen auf Kontoauszügen, im Onlinebanking von Mein ELBA, sowie in RaiPay dargestellt. Eine Zahlung oder Behebung mit einer physischen Karte wird mit einem „K“ und der jeweiligen Kartenfolgenummer bspw. K1 dargestellt. Digitale Zahlungen mit einem „D“ und der jeweiligen Nummer gekennzeichnet sind bspw. D1. Zusätzlich bietet RaiPay die Möglichkeit in der Transaktionsübersicht nach Zahlungen zu filtern, die Sie nur mit RaiPay getätigt haben. Anhand des Symbols vor der Zahlung können Sie unterscheiden, ob die Zahlung mit einer digitalen Karte, im Internet bei Online Händler:innen (nicht durch RaiPay unterstützt), oder eine Behebung am Geldausgabeautomaten stattgefunden hat.', metadata={'source': 'qa_docs/qa.42.txt'}),\n",
       "  Document(page_content='Kann ich meine Zahlungen in der Applikation sehen? Nach jeder erfolgreich durchgeführten Transaktion zeigt RaiPay Informationen über die Transaktion an (Datum und Uhrzeit, Betrag und den Status usw). Sollten Sie sich unsicher sein, dann kontaktieren Sie bitte die ELBA-Hotline.', metadata={'source': 'qa_docs/qa.43.txt'})]}"
      ]
     },
     "execution_count": 21,
     "metadata": {},
     "output_type": "execute_result"
    }
   ],
   "source": [
    "query = \"Vie viele baren sind im Slowakei?\"\n",
    "result = qa({\"question\": query, 'vectordbkwargs': {\"search_distance\": 0.99}})\n",
    "result"
   ]
  },
  {
   "cell_type": "code",
   "execution_count": 26,
   "id": "4c63bd74-bad5-47df-8b33-2c3a241350ab",
   "metadata": {},
   "outputs": [
    {
     "name": "stdout",
     "output_type": "stream",
     "text": [
      " Es ist möglich, mit RaiPay im Ausland an Terminals kontaktlos zu bezahlen oder Bargeld an Geldautomaten abzuheben, die mit einem kontaktlosen Lesegerät ausgestattet sind. Es gibt keine Einschränkungen hinsichtlich der Anzahl der Bargeldabhebungen in der Slowakei. 4\n"
     ]
    }
   ],
   "source": [
    "query = \"Vie viele Bären sind im Slowakei?\"\n",
    "result = qa({\"question\": query, 'vectordbkwargs': {\"search_distance\": 0.2}})\n",
    "print(\n",
    "    result['answer'],\n",
    "    len(result['source_documents'])\n",
    ")"
   ]
  },
  {
   "cell_type": "code",
   "execution_count": 29,
   "id": "eb6d211e-b40e-43c9-9793-6e5bbe50a96e",
   "metadata": {},
   "outputs": [
    {
     "name": "stdout",
     "output_type": "stream",
     "text": [
      " Es ist möglich, mit RaiPay im Ausland an Terminals kontaktlos zu bezahlen oder Bargeld an Geldautomaten abzuheben, die mit einem kontaktlosen Lesegerät ausgestattet sind. Es gibt jedoch keine Informationen darüber, wie viele Bargeldabhebungen in der Slowakei mit RaiPay möglich sind. 4\n"
     ]
    }
   ],
   "source": [
    "query = \"Vie viele Baren sind im Slowakei?\"\n",
    "result = qa({\"question\": query, 'vectordbkwargs': {\"search_distance\": 0.9}})\n",
    "print(\n",
    "    result['answer'],\n",
    "    len(result['source_documents'])\n",
    ")"
   ]
  },
  {
   "cell_type": "code",
   "execution_count": null,
   "id": "0d738173-b359-472b-bfab-3f241f4bbb2c",
   "metadata": {},
   "outputs": [],
   "source": []
  }
 ],
 "metadata": {
  "kernelspec": {
   "display_name": "openai3.10",
   "language": "python",
   "name": "openai3.10"
  },
  "language_info": {
   "codemirror_mode": {
    "name": "ipython",
    "version": 3
   },
   "file_extension": ".py",
   "mimetype": "text/x-python",
   "name": "python",
   "nbconvert_exporter": "python",
   "pygments_lexer": "ipython3",
   "version": "3.10.6"
  }
 },
 "nbformat": 4,
 "nbformat_minor": 5
}
